{
  "cells": [
    {
      "cell_type": "markdown",
      "metadata": {
        "id": "rlhREy3OY0B0"
      },
      "source": [
        "### Problem: Maximie f(x) = x^2-11x+150 when x = 0 to 255"
      ]
    },
    {
      "cell_type": "markdown",
      "metadata": {
        "id": "cgVQgH_mY0B5"
      },
      "source": [
        "Representation or ecoding solution:\n",
        "x can be represented using 8 bits binary number."
      ]
    },
    {
      "cell_type": "markdown",
      "metadata": {
        "id": "ANGeowr2Y0B6"
      },
      "source": [
        "# Step 1: Initialize Population"
      ]
    },
    {
      "cell_type": "code",
      "execution_count": 18,
      "metadata": {
        "_cell_guid": "b1076dfc-b9ad-4769-8c92-a6c4dae69d19",
        "_uuid": "8f2839f25d086af736a60e9eeb907d3b93b6e0e5",
        "id": "ZsgJZ428Y0B7"
      },
      "outputs": [],
      "source": [
        "import random\n",
        "def initPopulation(b, n = 10): # n is the number of solutions, b is the length\n",
        "    p = [] # to store solution set/ initial population\n",
        "    for i in range(n):\n",
        "        s = [] # to store a solution as a list\n",
        "        for j in range(b):\n",
        "            s.append(random.choice([0,1]))    \n",
        "        # avoid zero\n",
        "        p.append(s)\n",
        "    return p"
      ]
    },
    {
      "cell_type": "code",
      "execution_count": 19,
      "metadata": {
        "colab": {
          "base_uri": "https://localhost:8080/"
        },
        "id": "c-u06z8GY0B9",
        "outputId": "7a3eb5c7-cc10-45d3-f548-ebebde435ad7"
      },
      "outputs": [
        {
          "output_type": "execute_result",
          "data": {
            "text/plain": [
              "[[0, 1, 0, 1, 0],\n",
              " [1, 1, 0, 1, 1],\n",
              " [0, 1, 1, 1, 1],\n",
              " [0, 1, 0, 0, 0],\n",
              " [0, 0, 1, 0, 1],\n",
              " [1, 1, 0, 0, 0],\n",
              " [0, 1, 1, 0, 0],\n",
              " [1, 1, 1, 0, 0],\n",
              " [1, 0, 0, 0, 0],\n",
              " [1, 0, 0, 1, 1]]"
            ]
          },
          "metadata": {},
          "execution_count": 19
        }
      ],
      "source": [
        "population = initPopulation(5,10)\n",
        "population"
      ]
    },
    {
      "cell_type": "markdown",
      "metadata": {
        "id": "OodClYIqY0B-"
      },
      "source": [
        "# Step 2: Reproduction or Parent Selection"
      ]
    },
    {
      "cell_type": "markdown",
      "metadata": {
        "id": "4wSaADn8Y0B_"
      },
      "source": [
        "Fitness Calculation"
      ]
    },
    {
      "cell_type": "code",
      "execution_count": 20,
      "metadata": {
        "id": "-xNt-OBZY0CA"
      },
      "outputs": [],
      "source": [
        "def getFitness(p): # p is the whole population\n",
        "    f = [] # to store fitness values\n",
        "    for sol in p:\n",
        "        d = 0 # decimel value\n",
        "        b = len(sol)\n",
        "        for i in range(b-1,-1,-1): # binary to decimel\n",
        "            d = d + sol[i]*2**(b-1-i)\n",
        "        f.append(d**2 - 11*d + 150) # fitness function\n",
        "    return f"
      ]
    },
    {
      "cell_type": "code",
      "execution_count": 21,
      "metadata": {
        "colab": {
          "base_uri": "https://localhost:8080/"
        },
        "id": "dXauQ4xzY0CB",
        "outputId": "4a14c1ef-2cd2-4d08-e008-317c64f2808f"
      },
      "outputs": [
        {
          "output_type": "execute_result",
          "data": {
            "text/plain": [
              "[140, 582, 210, 126, 120, 462, 162, 626, 230, 302]"
            ]
          },
          "metadata": {},
          "execution_count": 21
        }
      ],
      "source": [
        "fitness = getFitness(population)\n",
        "fitness"
      ]
    },
    {
      "cell_type": "markdown",
      "metadata": {
        "id": "HJSKSdjnY0CC"
      },
      "source": [
        "<h1>Calculate probability and select parents</h1>"
      ]
    },
    {
      "cell_type": "code",
      "execution_count": 22,
      "metadata": {
        "id": "CsiuujgoY0CD"
      },
      "outputs": [],
      "source": [
        "def select_parent(n, pop): # probability, parent selection\n",
        "    # probability\n",
        "    fitness = getFitness(pop)\n",
        "    total_fitness = sum(fitness)\n",
        "    prob = [round(f/total_fitness,3) for f in fitness]\n",
        "    # parent selection\n",
        "    parents = []\n",
        "    for i in range(n):\n",
        "        # roullete wheel, generate a random number\n",
        "        r = random.choice(range(1,1001,1))/1000\n",
        "        lim = 0\n",
        "        # check bin number of r\n",
        "        for j in range(len(prob)):\n",
        "            lim = lim + prob[j]\n",
        "            if r <= lim :#checking the bin\n",
        "                print(j)\n",
        "                parents.append(pop[j])\n",
        "                break\n",
        "    return parents"
      ]
    },
    {
      "cell_type": "code",
      "execution_count": 24,
      "metadata": {
        "colab": {
          "base_uri": "https://localhost:8080/"
        },
        "id": "baheOspJY0CD",
        "outputId": "4bb82ed2-a95e-44fb-a7dd-f50789b5d996"
      },
      "outputs": [
        {
          "output_type": "stream",
          "name": "stdout",
          "text": [
            "2\n",
            "5\n",
            "3\n",
            "5\n",
            "4\n",
            "2\n",
            "9\n",
            "6\n",
            "5\n",
            "2\n"
          ]
        },
        {
          "output_type": "execute_result",
          "data": {
            "text/plain": [
              "[[0, 1, 1, 1, 1],\n",
              " [1, 1, 0, 0, 0],\n",
              " [0, 1, 0, 0, 0],\n",
              " [1, 1, 0, 0, 0],\n",
              " [0, 0, 1, 0, 1],\n",
              " [0, 1, 1, 1, 1],\n",
              " [1, 0, 0, 1, 1],\n",
              " [0, 1, 1, 0, 0],\n",
              " [1, 1, 0, 0, 0],\n",
              " [0, 1, 1, 1, 1]]"
            ]
          },
          "metadata": {},
          "execution_count": 24
        }
      ],
      "source": [
        "parents = select_parent(10, population)\n",
        "parents"
      ]
    },
    {
      "cell_type": "markdown",
      "metadata": {
        "id": "ExgfzsGRY0CE"
      },
      "source": [
        "# Step 3: Crossover"
      ]
    },
    {
      "cell_type": "code",
      "execution_count": 25,
      "metadata": {
        "colab": {
          "base_uri": "https://localhost:8080/"
        },
        "id": "CbSRQYJWY0CE",
        "outputId": "a1c55dcf-39b8-4ef5-e2c4-76f77546c65a"
      },
      "outputs": [
        {
          "output_type": "stream",
          "name": "stdout",
          "text": [
            "5.0\n",
            "[0, 1, 1, 1]\n",
            "[0]\n",
            "[1, 1, 0, 0]\n",
            "[1]\n",
            "[0, 1, 0]\n",
            "[0, 0]\n",
            "[1, 1, 0]\n",
            "[0, 0]\n",
            "[0, 0, 1, 0]\n",
            "[1]\n",
            "[0, 1, 1, 1]\n",
            "[1]\n",
            "[1, 0, 0]\n",
            "[0, 0]\n",
            "[0, 1, 1]\n",
            "[1, 1]\n",
            "[1, 1, 0, 0, 0]\n",
            "[]\n",
            "[0, 1, 1, 1, 1]\n",
            "[]\n"
          ]
        },
        {
          "output_type": "execute_result",
          "data": {
            "text/plain": [
              "[[0, 1, 1, 1, 0],\n",
              " [1, 1, 0, 0, 1],\n",
              " [0, 1, 0, 0, 0],\n",
              " [1, 1, 0, 0, 0],\n",
              " [0, 0, 1, 0, 1],\n",
              " [0, 1, 1, 1, 1],\n",
              " [1, 0, 0, 0, 0],\n",
              " [0, 1, 1, 1, 1],\n",
              " [1, 1, 0, 0, 0],\n",
              " [0, 1, 1, 1, 1]]"
            ]
          },
          "metadata": {},
          "execution_count": 25
        }
      ],
      "source": [
        "# define a method crossover (input is parents set)\n",
        "offsprings=[]\n",
        "def ret_cross(li,cp,sp):\n",
        "    print(li[sp:cp])\n",
        "    return li[sp:cp]\n",
        "    \n",
        "\n",
        "def perform_crossover(parents):\n",
        "    num_cross = len(parents)/2\n",
        "    print(num_cross)\n",
        "    for pa in range(0,len(parents)-1,+2):\n",
        "        cp = random.choice(range(1,7))\n",
        "        offsprings.append(ret_cross(parents[pa],cp,0)+ret_cross(parents[pa+1],len(parents[pa+1]),cp))\n",
        "        offsprings.append(ret_cross(parents[pa+1],cp,0)+ret_cross(parents[pa],len(parents[pa]),cp))\n",
        "    return offsprings \n",
        "\n",
        "perform_crossover(parents)"
      ]
    },
    {
      "cell_type": "markdown",
      "metadata": {
        "id": "p86KPdisY0CF"
      },
      "source": [
        "# Step 5: Select Survivor\n",
        "The selected survivors (solutions) will be added to population"
      ]
    },
    {
      "cell_type": "markdown",
      "metadata": {
        "id": "uXrizhEnY0CG"
      },
      "source": [
        "Select top 2 offspring based on fitness value and add them to population."
      ]
    },
    {
      "cell_type": "markdown",
      "metadata": {
        "id": "74TMV8HdY0CG"
      },
      "source": [
        "Repeat Step 2 to 4 for further iterations"
      ]
    },
    {
      "cell_type": "code",
      "execution_count": 26,
      "metadata": {
        "colab": {
          "base_uri": "https://localhost:8080/"
        },
        "id": "_TKa2Z24Y0CG",
        "outputId": "c6f74c4f-b504-4cee-9e50-136a95597e61"
      },
      "outputs": [
        {
          "output_type": "stream",
          "name": "stdout",
          "text": [
            "14\n",
            "25\n",
            "8\n",
            "24\n",
            "5\n",
            "15\n",
            "16\n",
            "15\n",
            "24\n",
            "15\n",
            "Selected Parents For Offspring:\n",
            "[1, 1, 0, 0, 1]\n",
            "[1, 1, 0, 0, 0]\n"
          ]
        }
      ],
      "source": [
        "def binarytoInteger(li):\n",
        "    number = 0\n",
        "    for b in li:\n",
        "        number = (2 * number) + b    \n",
        "    return number\n",
        "\n",
        "# define a method to select top offsprings (input offsprings, top)\n",
        "def get_top_offsprings(offsprings):\n",
        "    fitness_values=[]\n",
        "    for sol in range(0,len(offsprings),+1):\n",
        "        val=binarytoInteger(offsprings[sol])\n",
        "        print(val)\n",
        "        fitness_values.append(val)\n",
        "    return fitness_values \n",
        "li=get_top_offsprings(offsprings)\n",
        "offsprings.sort(reverse=True)\n",
        "#The output is already generated in the next cell. if it get runned again then same values will be appended again. Then last two values needs to be deleted to be checked.\n",
        "parents.append(offsprings[0])\n",
        "parents.append(offsprings[1])\n",
        "print(\"Selected Parents For Offspring:\")\n",
        "print(offsprings[0])\n",
        "print(offsprings[1])"
      ]
    },
    {
      "cell_type": "markdown",
      "metadata": {
        "id": "OqAESZXOY0CH"
      },
      "source": [
        "<h1>Complete Iteration</h1>"
      ]
    },
    {
      "cell_type": "code",
      "execution_count": 27,
      "metadata": {
        "colab": {
          "base_uri": "https://localhost:8080/"
        },
        "id": "GZ4H9aGSY0CI",
        "outputId": "68ba810c-6c8f-4986-b176-8c1bb8e5ec4c"
      },
      "outputs": [
        {
          "output_type": "stream",
          "name": "stdout",
          "text": [
            "The Updated Parent List after Offspring:\n",
            "[[0, 1, 1, 1, 1], [1, 1, 0, 0, 0], [0, 1, 0, 0, 0], [1, 1, 0, 0, 0], [0, 0, 1, 0, 1], [0, 1, 1, 1, 1], [1, 0, 0, 1, 1], [0, 1, 1, 0, 0], [1, 1, 0, 0, 0], [0, 1, 1, 1, 1], [1, 1, 0, 0, 1], [1, 1, 0, 0, 0]]\n"
          ]
        }
      ],
      "source": [
        "print(\"The Updated Parent List after Offspring:\")\n",
        "print(parents)"
      ]
    },
    {
      "cell_type": "code",
      "execution_count": null,
      "metadata": {
        "id": "JaLaIJ6-Y0CI"
      },
      "outputs": [],
      "source": [
        ""
      ]
    },
    {
      "cell_type": "code",
      "execution_count": null,
      "metadata": {
        "id": "eV3mP-M7Y0CI"
      },
      "outputs": [],
      "source": [
        ""
      ]
    }
  ],
  "metadata": {
    "kernelspec": {
      "display_name": "Python 3",
      "language": "python",
      "name": "python3"
    },
    "language_info": {
      "codemirror_mode": {
        "name": "ipython",
        "version": 3
      },
      "file_extension": ".py",
      "mimetype": "text/x-python",
      "name": "python",
      "nbconvert_exporter": "python",
      "pygments_lexer": "ipython3",
      "version": "3.8.8"
    },
    "colab": {
      "name": "Week-06-Genetic-Algorithm.ipynb",
      "provenance": [],
      "collapsed_sections": []
    }
  },
  "nbformat": 4,
  "nbformat_minor": 0
}